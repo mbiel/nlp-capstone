{
 "cells": [
  {
   "cell_type": "markdown",
   "metadata": {
    "collapsed": true
   },
   "source": [
    "# Artificial Intelligence Nanodegree\n",
    "## Machine Translation Project\n",
    "In this notebook, sections that end with **'(IMPLEMENTATION)'** in the header indicate that the following blocks of code will require additional functionality which you must provide. Please be sure to read the instructions carefully!\n",
    "\n",
    "## Introduction\n",
    "In this notebook, you will build a deep neural network that functions as part of an end-to-end machine translation pipeline. Your completed pipeline will accept English text as input and return the French translation.\n",
    "\n",
    "- **Preprocess** - You'll convert text to sequence of integers.\n",
    "- **Models** Create models which accepts a sequence of integers as input and returns a probability distribution over possible translations. After learning about the basic types of neural networks that are often used for machine translation, you will engage in your own investigations, to design your own model!\n",
    "- **Prediction** Run the model on English text.\n",
    "\n",
    "## Dataset\n",
    "We begin by investigating the dataset that will be used to train and evaluate your pipeline.  The most common datasets used for machine translation are from [WMT](http://www.statmt.org/).  However, that will take a long time to train a neural network on.  We'll be using a dataset we created for this project that contains a small vocabulary.  You'll be able to train your model in a reasonable time with this dataset.\n",
    "### Load Data\n",
    "The data is located in `data/small_vocab_en` and `data/small_vocab_fr`. The `small_vocab_en` file contains English sentences with their French translations in the `small_vocab_fr` file. Load the English and French data from these files from running the cell below."
   ]
  },
  {
   "cell_type": "code",
   "execution_count": 1,
   "metadata": {},
   "outputs": [
    {
     "name": "stdout",
     "output_type": "stream",
     "text": [
      "Dataset Loaded\n"
     ]
    }
   ],
   "source": [
    "import helper\n",
    "\n",
    "\n",
    "# Load English data\n",
    "english_sentences = helper.load_data('data/small_vocab_en')\n",
    "# Load French data\n",
    "french_sentences = helper.load_data('data/small_vocab_fr')\n",
    "\n",
    "print('Dataset Loaded')"
   ]
  },
  {
   "cell_type": "markdown",
   "metadata": {},
   "source": [
    "### Files\n",
    "Each line in `small_vocab_en` contains an English sentence with the respective translation in each line of `small_vocab_fr`.  View the first two lines from each file."
   ]
  },
  {
   "cell_type": "code",
   "execution_count": 2,
   "metadata": {},
   "outputs": [
    {
     "name": "stdout",
     "output_type": "stream",
     "text": [
      "small_vocab_en Line 1:  new jersey is sometimes quiet during autumn , and it is snowy in april .\n",
      "small_vocab_fr Line 1:  new jersey est parfois calme pendant l' automne , et il est neigeux en avril .\n",
      "small_vocab_en Line 2:  the united states is usually chilly during july , and it is usually freezing in november .\n",
      "small_vocab_fr Line 2:  les états-unis est généralement froid en juillet , et il gèle habituellement en novembre .\n"
     ]
    }
   ],
   "source": [
    "for sample_i in range(2):\n",
    "    print('small_vocab_en Line {}:  {}'.format(sample_i + 1, english_sentences[sample_i]))\n",
    "    print('small_vocab_fr Line {}:  {}'.format(sample_i + 1, french_sentences[sample_i]))"
   ]
  },
  {
   "cell_type": "markdown",
   "metadata": {},
   "source": [
    "From looking at the sentences, you can see they have been preprocessed already.  The puncuations have been delimited using spaces. All the text have been converted to lowercase.  This should save you some time, but the text requires more preprocessing.\n",
    "### Vocabulary\n",
    "The complexity of the problem is determined by the complexity of the vocabulary.  A more complex vocabulary is a more complex problem.  Let's look at the complexity of the dataset we'll be working with."
   ]
  },
  {
   "cell_type": "code",
   "execution_count": 3,
   "metadata": {},
   "outputs": [
    {
     "name": "stdout",
     "output_type": "stream",
     "text": [
      "1823250 English words.\n",
      "227 unique English words.\n",
      "10 Most common words in the English dataset:\n",
      "\"is\" \",\" \".\" \"in\" \"it\" \"during\" \"the\" \"but\" \"and\" \"sometimes\"\n",
      "\n",
      "1961295 French words.\n",
      "355 unique French words.\n",
      "10 Most common words in the French dataset:\n",
      "\"est\" \".\" \",\" \"en\" \"il\" \"les\" \"mais\" \"et\" \"la\" \"parfois\"\n"
     ]
    }
   ],
   "source": [
    "import collections\n",
    "\n",
    "\n",
    "english_words_counter = collections.Counter([word for sentence in english_sentences for word in sentence.split()])\n",
    "french_words_counter = collections.Counter([word for sentence in french_sentences for word in sentence.split()])\n",
    "\n",
    "print('{} English words.'.format(len([word for sentence in english_sentences for word in sentence.split()])))\n",
    "print('{} unique English words.'.format(len(english_words_counter)))\n",
    "print('10 Most common words in the English dataset:')\n",
    "print('\"' + '\" \"'.join(list(zip(*english_words_counter.most_common(10)))[0]) + '\"')\n",
    "print()\n",
    "print('{} French words.'.format(len([word for sentence in french_sentences for word in sentence.split()])))\n",
    "print('{} unique French words.'.format(len(french_words_counter)))\n",
    "print('10 Most common words in the French dataset:')\n",
    "print('\"' + '\" \"'.join(list(zip(*french_words_counter.most_common(10)))[0]) + '\"')"
   ]
  },
  {
   "cell_type": "markdown",
   "metadata": {},
   "source": [
    "For comparison, _Alice's Adventures in Wonderland_ contains 2,766 unique words of a total of 15,500 words.\n",
    "## Preprocess\n",
    "For this project, you won't use text data as input to your model. Instead, you'll convert the text into sequences of integers using the following preprocess methods:\n",
    "1. Tokenize the words into ids\n",
    "2. Add padding to make all the sequences the same length.\n",
    "\n",
    "Time to start preprocessing the data...\n",
    "### Tokenize (IMPLEMENTATION)\n",
    "For a neural network to predict on text data, it first has to be turned into data it can understand. Text data like \"dog\" is a sequence of ASCII character encodings.  Since a neural network is a series of multiplication and addition operations, the input data needs to be number(s).\n",
    "\n",
    "We can turn each character into a number or each word into a number.  These are called character and word ids, respectively.  Character ids are used for character level models that generate text predictions for each character.  A word level model uses word ids that generate text predictions for each word.  Word level models tend to learn better, since they are lower in complexity, so we'll use those.\n",
    "\n",
    "Turn each sentence into a sequence of words ids using Keras's [`Tokenizer`](https://keras.io/preprocessing/text/#tokenizer) function. Use this function to tokenize `english_sentences` and `french_sentences` in the cell below.\n",
    "\n",
    "Running the cell will run `tokenize` on sample data and show output for debugging."
   ]
  },
  {
   "cell_type": "code",
   "execution_count": 4,
   "metadata": {},
   "outputs": [
    {
     "name": "stderr",
     "output_type": "stream",
     "text": [
      "Using TensorFlow backend.\n"
     ]
    },
    {
     "name": "stdout",
     "output_type": "stream",
     "text": [
      "{'the': 1, 'quick': 2, 'a': 3, 'brown': 4, 'fox': 5, 'jumps': 6, 'over': 7, 'lazy': 8, 'dog': 9, 'by': 10, 'jove': 11, 'my': 12, 'study': 13, 'of': 14, 'lexicography': 15, 'won': 16, 'prize': 17, 'this': 18, 'is': 19, 'short': 20, 'sentence': 21}\n",
      "\n",
      "Sequence 1 in x\n",
      "  Input:  The quick brown fox jumps over the lazy dog .\n",
      "  Output: [1, 2, 4, 5, 6, 7, 1, 8, 9]\n",
      "Sequence 2 in x\n",
      "  Input:  By Jove , my quick study of lexicography won a prize .\n",
      "  Output: [10, 11, 12, 2, 13, 14, 15, 16, 3, 17]\n",
      "Sequence 3 in x\n",
      "  Input:  This is a short sentence .\n",
      "  Output: [18, 19, 3, 20, 21]\n"
     ]
    }
   ],
   "source": [
    "import project_tests as tests\n",
    "from keras.preprocessing.text import Tokenizer\n",
    "\n",
    "\n",
    "def tokenize(x):\n",
    "    \"\"\"\n",
    "    Tokenize x\n",
    "    :param x: List of sentences/strings to be tokenized\n",
    "    :return: Tuple of (tokenized x data, tokenizer used to tokenize x)\n",
    "    \"\"\"\n",
    "    # TODO: Implement\n",
    "    tokenizer = Tokenizer(num_words=355)\n",
    "    tokenizer.fit_on_texts(x)\n",
    "    return tokenizer.texts_to_sequences(x), tokenizer\n",
    "\n",
    "tests.test_tokenize(tokenize)\n",
    "\n",
    "# Tokenize Example output\n",
    "text_sentences = [\n",
    "    'The quick brown fox jumps over the lazy dog .',\n",
    "    'By Jove , my quick study of lexicography won a prize .',\n",
    "    'This is a short sentence .']\n",
    "text_tokenized, text_tokenizer = tokenize(text_sentences)\n",
    "print(text_tokenizer.word_index)\n",
    "print()\n",
    "for sample_i, (sent, token_sent) in enumerate(zip(text_sentences, text_tokenized)):\n",
    "    print('Sequence {} in x'.format(sample_i + 1))\n",
    "    print('  Input:  {}'.format(sent))\n",
    "    print('  Output: {}'.format(token_sent))"
   ]
  },
  {
   "cell_type": "markdown",
   "metadata": {},
   "source": [
    "### Padding (IMPLEMENTATION)\n",
    "When batching the sequence of word ids together, each sequence needs to be the same length.  Since sentences are dynamic in length, we can add padding to the end of the sequences to make them the same length.\n",
    "\n",
    "Make sure all the English sequences have the same length and all the French sequences have the same length by adding padding to the **end** of each sequence using Keras's [`pad_sequences`](https://keras.io/preprocessing/sequence/#pad_sequences) function."
   ]
  },
  {
   "cell_type": "code",
   "execution_count": 5,
   "metadata": {},
   "outputs": [
    {
     "name": "stdout",
     "output_type": "stream",
     "text": [
      "Sequence 1 in x\n",
      "  Input:  [1 2 4 5 6 7 1 8 9]\n",
      "  Output: [1 2 4 5 6 7 1 8 9 0]\n",
      "Sequence 2 in x\n",
      "  Input:  [10 11 12  2 13 14 15 16  3 17]\n",
      "  Output: [10 11 12  2 13 14 15 16  3 17]\n",
      "Sequence 3 in x\n",
      "  Input:  [18 19  3 20 21]\n",
      "  Output: [18 19  3 20 21  0  0  0  0  0]\n"
     ]
    }
   ],
   "source": [
    "import numpy as np\n",
    "from keras.preprocessing.sequence import pad_sequences\n",
    "\n",
    "# TODO -- This is wrong\n",
    "def pad(x, length=None):\n",
    "    \"\"\"\n",
    "    Pad x\n",
    "    :param x: List of sequences.\n",
    "    :param length: Length to pad the sequence to.  If None, use length of longest sequence in x.\n",
    "    :return: Padded numpy array of sequences\n",
    "    \"\"\"\n",
    "    # TODO: Implement\n",
    "    return pad_sequences(x, maxlen=length, padding='post')\n",
    "tests.test_pad(pad)\n",
    "\n",
    "# Pad Tokenized output\n",
    "test_pad = pad(text_tokenized)\n",
    "for sample_i, (token_sent, pad_sent) in enumerate(zip(text_tokenized, test_pad)):\n",
    "    print('Sequence {} in x'.format(sample_i + 1))\n",
    "    print('  Input:  {}'.format(np.array(token_sent)))\n",
    "    print('  Output: {}'.format(pad_sent))"
   ]
  },
  {
   "cell_type": "markdown",
   "metadata": {},
   "source": [
    "### Preprocess Pipeline\n",
    "Your focus for this project is to build neural network architecture, so we won't ask you to create a preprocess pipeline.  Instead, we've provided you with the implementation of the `preprocess` function."
   ]
  },
  {
   "cell_type": "code",
   "execution_count": 6,
   "metadata": {},
   "outputs": [
    {
     "name": "stdout",
     "output_type": "stream",
     "text": [
      "Data Preprocessed\n"
     ]
    }
   ],
   "source": [
    "def preprocess(x, y):\n",
    "    \"\"\"\n",
    "    Preprocess x and y\n",
    "    :param x: Feature List of sentences\n",
    "    :param y: Label List of sentences\n",
    "    :return: Tuple of (Preprocessed x, Preprocessed y, x tokenizer, y tokenizer)\n",
    "    \"\"\"\n",
    "    preprocess_x, x_tk = tokenize(x)\n",
    "    preprocess_y, y_tk = tokenize(y)\n",
    "\n",
    "    preprocess_x = pad(preprocess_x)\n",
    "    preprocess_y = pad(preprocess_y)\n",
    "\n",
    "    # Keras's sparse_categorical_crossentropy function requires the labels to be in 3 dimensions\n",
    "    preprocess_y = preprocess_y.reshape(*preprocess_y.shape, 1)\n",
    "\n",
    "    return preprocess_x, preprocess_y, x_tk, y_tk\n",
    "\n",
    "preproc_english_sentences, preproc_french_sentences, english_tokenizer, french_tokenizer =\\\n",
    "    preprocess(english_sentences, french_sentences)\n",
    "\n",
    "print('Data Preprocessed')"
   ]
  },
  {
   "cell_type": "markdown",
   "metadata": {},
   "source": [
    "## Models\n",
    "In this section, you will experiment with various neural network architectures.\n",
    "You will begin by training four relatively simple architectures.\n",
    "- Model 1 is a simple RNN\n",
    "- Model 2 is a RNN with Embedding\n",
    "- Model 3 is a Bidirectional RNN\n",
    "- Model 4 is an optional Encoder-Decoder RNN\n",
    "\n",
    "After experimenting with the four simple architectures, you will construct a deeper architecture that is designed to outperform all four models.\n",
    "### Ids Back to Text\n",
    "The neural network will be translating the input to words ids, which isn't the final form we want.  We want the French translation.  The function `logits_to_text` will bridge the gab between the logits from the neural network to the French translation.  You'll be using this function to better understand the output of the neural network."
   ]
  },
  {
   "cell_type": "code",
   "execution_count": 7,
   "metadata": {},
   "outputs": [
    {
     "name": "stdout",
     "output_type": "stream",
     "text": [
      "`logits_to_text` function loaded.\n"
     ]
    }
   ],
   "source": [
    "def logits_to_text(logits, tokenizer):\n",
    "    \"\"\"\n",
    "    Turn logits from a neural network into text using the tokenizer\n",
    "    :param logits: Logits from a neural network\n",
    "    :param tokenizer: Keras Tokenizer fit on the labels\n",
    "    :return: String that represents the text of the logits\n",
    "    \"\"\"\n",
    "    index_to_words = {id: word for word, id in tokenizer.word_index.items()}\n",
    "    index_to_words[0] = '<PAD>'\n",
    "\n",
    "    return ' '.join([index_to_words[prediction] for prediction in np.argmax(logits, 1)])\n",
    "\n",
    "print('`logits_to_text` function loaded.')"
   ]
  },
  {
   "cell_type": "markdown",
   "metadata": {},
   "source": [
    "### Model 1: RNN (IMPLEMENTATION)\n",
    "![RNN](images/rnn.png)\n",
    "A basic RNN model is a good baseline for sequence data.  In this model, you'll build a RNN that translates English to French."
   ]
  },
  {
   "cell_type": "code",
   "execution_count": 8,
   "metadata": {},
   "outputs": [
    {
     "name": "stdout",
     "output_type": "stream",
     "text": [
      "Train on 110288 samples, validate on 27573 samples\n",
      "Epoch 1/50\n",
      "110288/110288 [==============================] - 35s - loss: 2.8182 - acc: 0.4507 - val_loss: 2.3599 - val_acc: 0.4827\n",
      "Epoch 2/50\n",
      "110288/110288 [==============================] - 31s - loss: 2.2629 - acc: 0.4985 - val_loss: 2.0592 - val_acc: 0.5210\n",
      "Epoch 3/50\n",
      "110288/110288 [==============================] - 31s - loss: 2.0237 - acc: 0.5355 - val_loss: 1.8243 - val_acc: 0.5698\n",
      "Epoch 4/50\n",
      "110288/110288 [==============================] - 31s - loss: 1.8687 - acc: 0.5568 - val_loss: 1.7358 - val_acc: 0.5787\n",
      "Epoch 5/50\n",
      "110288/110288 [==============================] - 31s - loss: 1.7938 - acc: 0.5624 - val_loss: 1.6775 - val_acc: 0.5811\n",
      "Epoch 6/50\n",
      "110288/110288 [==============================] - 31s - loss: 1.7453 - acc: 0.5660 - val_loss: 1.6401 - val_acc: 0.5809\n",
      "Epoch 7/50\n",
      "110288/110288 [==============================] - 30s - loss: 1.7124 - acc: 0.5679 - val_loss: 1.6117 - val_acc: 0.5806\n",
      "Epoch 8/50\n",
      "110288/110288 [==============================] - 31s - loss: 1.6882 - acc: 0.5689 - val_loss: 1.5936 - val_acc: 0.5820\n",
      "Epoch 9/50\n",
      "110288/110288 [==============================] - 30s - loss: 1.6705 - acc: 0.5706 - val_loss: 1.5819 - val_acc: 0.5809\n",
      "Epoch 10/50\n",
      "110288/110288 [==============================] - 30s - loss: 1.6585 - acc: 0.5716 - val_loss: 1.5714 - val_acc: 0.5838\n",
      "Epoch 11/50\n",
      "110288/110288 [==============================] - 30s - loss: 1.6491 - acc: 0.5727 - val_loss: 1.5673 - val_acc: 0.5854\n",
      "Epoch 12/50\n",
      "110288/110288 [==============================] - 31s - loss: 1.6390 - acc: 0.5734 - val_loss: 1.5570 - val_acc: 0.5850\n",
      "Epoch 13/50\n",
      "110288/110288 [==============================] - 30s - loss: 1.6314 - acc: 0.5752 - val_loss: 1.5547 - val_acc: 0.5858\n",
      "Epoch 14/50\n",
      "110288/110288 [==============================] - 30s - loss: 1.6213 - acc: 0.5778 - val_loss: 1.5444 - val_acc: 0.5871\n",
      "Epoch 15/50\n",
      "110288/110288 [==============================] - 30s - loss: 1.6134 - acc: 0.5792 - val_loss: 1.5393 - val_acc: 0.5848\n",
      "Epoch 16/50\n",
      "110288/110288 [==============================] - 30s - loss: 1.6054 - acc: 0.5803 - val_loss: 1.5324 - val_acc: 0.5866\n",
      "Epoch 17/50\n",
      "110288/110288 [==============================] - 31s - loss: 1.5994 - acc: 0.5816 - val_loss: 1.5297 - val_acc: 0.5863\n",
      "Epoch 18/50\n",
      "110288/110288 [==============================] - 30s - loss: 1.5924 - acc: 0.5826 - val_loss: 1.5237 - val_acc: 0.5883\n",
      "Epoch 19/50\n",
      "110288/110288 [==============================] - 30s - loss: 1.5877 - acc: 0.5836 - val_loss: 1.5200 - val_acc: 0.5905\n",
      "Epoch 20/50\n",
      "110288/110288 [==============================] - 30s - loss: 1.5829 - acc: 0.5846 - val_loss: 1.5179 - val_acc: 0.5887\n",
      "Epoch 21/50\n",
      "110288/110288 [==============================] - 30s - loss: 1.5776 - acc: 0.5852 - val_loss: 1.5141 - val_acc: 0.5893\n",
      "Epoch 22/50\n",
      "110288/110288 [==============================] - 30s - loss: 1.5727 - acc: 0.5860 - val_loss: 1.5108 - val_acc: 0.5874\n",
      "Epoch 23/50\n",
      "110288/110288 [==============================] - 30s - loss: 1.5688 - acc: 0.5866 - val_loss: 1.5096 - val_acc: 0.5891\n",
      "Epoch 24/50\n",
      "110288/110288 [==============================] - 30s - loss: 1.5638 - acc: 0.5867 - val_loss: 1.5008 - val_acc: 0.5885\n",
      "Epoch 25/50\n",
      "110288/110288 [==============================] - 31s - loss: 1.5574 - acc: 0.5880 - val_loss: 1.4911 - val_acc: 0.5914\n",
      "Epoch 26/50\n",
      "110288/110288 [==============================] - 30s - loss: 1.5492 - acc: 0.5891 - val_loss: 1.4862 - val_acc: 0.5920\n",
      "Epoch 27/50\n",
      "110288/110288 [==============================] - 31s - loss: 1.5435 - acc: 0.5895 - val_loss: 1.4746 - val_acc: 0.5931\n",
      "Epoch 28/50\n",
      "110288/110288 [==============================] - 31s - loss: 1.5357 - acc: 0.5910 - val_loss: 1.4744 - val_acc: 0.5856\n",
      "Epoch 29/50\n",
      "110288/110288 [==============================] - 31s - loss: 1.5285 - acc: 0.5923 - val_loss: 1.4677 - val_acc: 0.5904\n",
      "Epoch 30/50\n",
      "110288/110288 [==============================] - 30s - loss: 1.5207 - acc: 0.5934 - val_loss: 1.4605 - val_acc: 0.5915\n",
      "Epoch 31/50\n",
      "110288/110288 [==============================] - 30s - loss: 1.5143 - acc: 0.5935 - val_loss: 1.4497 - val_acc: 0.5928\n",
      "Epoch 32/50\n",
      "110288/110288 [==============================] - 30s - loss: 1.5077 - acc: 0.5943 - val_loss: 1.4389 - val_acc: 0.5940\n",
      "Epoch 33/50\n",
      "110288/110288 [==============================] - 30s - loss: 1.4955 - acc: 0.5954 - val_loss: 1.4358 - val_acc: 0.5928\n",
      "Epoch 34/50\n",
      "110288/110288 [==============================] - 30s - loss: 1.4921 - acc: 0.5957 - val_loss: 1.4322 - val_acc: 0.5949\n",
      "Epoch 35/50\n",
      "110288/110288 [==============================] - 30s - loss: 1.4857 - acc: 0.5963 - val_loss: 1.4272 - val_acc: 0.5942\n",
      "Epoch 36/50\n",
      "110288/110288 [==============================] - 30s - loss: 1.4825 - acc: 0.5968 - val_loss: 1.4271 - val_acc: 0.5966\n",
      "Epoch 37/50\n",
      "110288/110288 [==============================] - 30s - loss: 1.4805 - acc: 0.5976 - val_loss: 1.4295 - val_acc: 0.5976\n",
      "Epoch 38/50\n",
      "110288/110288 [==============================] - 30s - loss: 1.4768 - acc: 0.5976 - val_loss: 1.4220 - val_acc: 0.5971\n",
      "Epoch 39/50\n",
      "110288/110288 [==============================] - 30s - loss: 1.4743 - acc: 0.5982 - val_loss: 1.4284 - val_acc: 0.5949\n",
      "Epoch 40/50\n",
      "110288/110288 [==============================] - 30s - loss: 1.4723 - acc: 0.5987 - val_loss: 1.4241 - val_acc: 0.5983\n",
      "Epoch 41/50\n",
      "110288/110288 [==============================] - 30s - loss: 1.4706 - acc: 0.5985 - val_loss: 1.4148 - val_acc: 0.5986\n",
      "Epoch 42/50\n",
      "110288/110288 [==============================] - 30s - loss: 1.4689 - acc: 0.5988 - val_loss: 1.4216 - val_acc: 0.5980\n",
      "Epoch 43/50\n",
      "110288/110288 [==============================] - 30s - loss: 1.4674 - acc: 0.5991 - val_loss: 1.4106 - val_acc: 0.5957\n",
      "Epoch 44/50\n",
      "110288/110288 [==============================] - 30s - loss: 1.4657 - acc: 0.5995 - val_loss: 1.4125 - val_acc: 0.5980\n",
      "Epoch 45/50\n",
      "110288/110288 [==============================] - 30s - loss: 1.4636 - acc: 0.5999 - val_loss: 1.4173 - val_acc: 0.5984\n",
      "Epoch 46/50\n",
      "110288/110288 [==============================] - 30s - loss: 1.4628 - acc: 0.6005 - val_loss: 1.4139 - val_acc: 0.5983\n",
      "Epoch 47/50\n",
      "110288/110288 [==============================] - 30s - loss: 1.4613 - acc: 0.6008 - val_loss: 1.4091 - val_acc: 0.6010\n",
      "Epoch 48/50\n",
      "110288/110288 [==============================] - 30s - loss: 1.4592 - acc: 0.6010 - val_loss: 1.4168 - val_acc: 0.6008\n",
      "Epoch 49/50\n",
      "110288/110288 [==============================] - 31s - loss: 1.4573 - acc: 0.6013 - val_loss: 1.4156 - val_acc: 0.6001\n",
      "Epoch 50/50\n",
      "110288/110288 [==============================] - 30s - loss: 1.4565 - acc: 0.6019 - val_loss: 1.4109 - val_acc: 0.6024\n",
      "new jersey est parfois jamais en en et il il est en en <PAD> <PAD> <PAD> <PAD> <PAD> <PAD> <PAD> <PAD>\n"
     ]
    }
   ],
   "source": [
    "from keras.layers import GRU, Input, Dense, TimeDistributed\n",
    "from keras.models import Model, Sequential\n",
    "from keras.layers import Activation\n",
    "from keras.optimizers import Adam\n",
    "from keras.losses import sparse_categorical_crossentropy\n",
    "\n",
    "\n",
    "def simple_model(input_shape, output_sequence_length, english_vocab_size, french_vocab_size):\n",
    "    \"\"\"\n",
    "    Build and train a basic RNN on x and y\n",
    "    :param input_shape: Tuple of input shape\n",
    "    :param output_sequence_length: Length of output sequence\n",
    "    :param english_vocab_size: Number of unique English words in the dataset\n",
    "    :param french_vocab_size: Number of unique French words in the dataset\n",
    "    :return: Keras model built, but not trained\n",
    "    \"\"\"\n",
    "    # TODO: Build the layers\n",
    "    model = Sequential()\n",
    "    model.add(GRU(output_sequence_length, input_shape=input_shape[1:], return_sequences=True, dropout=0.1, recurrent_dropout=0.1))\n",
    "    model.add(TimeDistributed(Dense(french_vocab_size)))\n",
    "    model.add(Activation('softmax'))\n",
    "    model.compile(loss=sparse_categorical_crossentropy,\n",
    "                  optimizer=Adam(),\n",
    "                  metrics=['accuracy'])\n",
    "    return model\n",
    "tests.test_simple_model(simple_model)\n",
    "\n",
    "\n",
    "# Reshaping the input to work with a basic RNN\n",
    "tmp_x = pad(preproc_english_sentences, preproc_french_sentences.shape[1])\n",
    "tmp_x = tmp_x.reshape((-1, preproc_french_sentences.shape[-2], 1))\n",
    "\n",
    "# Train the neural network\n",
    "simple_rnn_model = simple_model(\n",
    "    tmp_x.shape,\n",
    "    preproc_french_sentences.shape[1],\n",
    "    len(english_tokenizer.word_index) + 1,\n",
    "    len(french_tokenizer.word_index) + 1)\n",
    "simple_rnn_model.fit(tmp_x, preproc_french_sentences, batch_size=100, epochs=50, validation_split=0.2)\n",
    "\n",
    "# Print prediction(s)\n",
    "print(logits_to_text(simple_rnn_model.predict(tmp_x[:1])[0], french_tokenizer))"
   ]
  },
  {
   "cell_type": "markdown",
   "metadata": {},
   "source": [
    "### Model 2: Embedding (IMPLEMENTATION)\n",
    "![RNN](images/embedding.png)\n",
    "You've turned the words into ids, but there's a better representation of a word.  This is called word embeddings.  An embedding is a vector representation of the word that is close to similar words in n-dimensional space, where the n represents the size of the embedding vectors.\n",
    "\n",
    "In this model, you'll create a RNN model using embedding."
   ]
  },
  {
   "cell_type": "code",
   "execution_count": 10,
   "metadata": {},
   "outputs": [
    {
     "name": "stdout",
     "output_type": "stream",
     "text": [
      "Epoch 1/15\n",
      "137861/137861 [==============================] - 83s - loss: 2.2382 - acc: 0.4740    \n",
      "Epoch 2/15\n",
      "137861/137861 [==============================] - 83s - loss: 1.0926 - acc: 0.6936    \n",
      "Epoch 3/15\n",
      "137861/137861 [==============================] - 83s - loss: 0.9035 - acc: 0.7391    \n",
      "Epoch 4/15\n",
      "137861/137861 [==============================] - 83s - loss: 0.8196 - acc: 0.7603    \n",
      "Epoch 5/15\n",
      "137861/137861 [==============================] - 83s - loss: 0.7664 - acc: 0.7744    \n",
      "Epoch 6/15\n",
      "137861/137861 [==============================] - 83s - loss: 0.7301 - acc: 0.7837    \n",
      "Epoch 7/15\n",
      "137861/137861 [==============================] - 83s - loss: 0.7054 - acc: 0.7901    \n",
      "Epoch 8/15\n",
      "137861/137861 [==============================] - 83s - loss: 0.6858 - acc: 0.7958    \n",
      "Epoch 9/15\n",
      "137861/137861 [==============================] - 83s - loss: 0.6702 - acc: 0.8002    \n",
      "Epoch 10/15\n",
      "137861/137861 [==============================] - 83s - loss: 0.6551 - acc: 0.8049    \n",
      "Epoch 11/15\n",
      "137861/137861 [==============================] - 83s - loss: 0.6439 - acc: 0.8084    \n",
      "Epoch 12/15\n",
      "137861/137861 [==============================] - 83s - loss: 0.6323 - acc: 0.8113    \n",
      "Epoch 13/15\n",
      "137861/137861 [==============================] - 83s - loss: 0.6212 - acc: 0.8151    \n",
      "Epoch 14/15\n",
      "137861/137861 [==============================] - 83s - loss: 0.6092 - acc: 0.8179    \n",
      "Epoch 15/15\n",
      "137861/137861 [==============================] - 83s - loss: 0.6046 - acc: 0.8187    \n",
      "new jersey est parfois calme en l' automne l' automne est est enneigée enneigée enneigée enneigée enneigée enneigée enneigée enneigée enneigée\n"
     ]
    }
   ],
   "source": [
    "from keras.layers.embeddings import Embedding\n",
    "\n",
    "\n",
    "def embed_model(input_shape, output_sequence_length, english_vocab_size, french_vocab_size):\n",
    "    \"\"\"\n",
    "    Build and train a RNN model using word embedding on x and y\n",
    "    :param input_shape: Tuple of input shape\n",
    "    :param output_sequence_length: Length of output sequence\n",
    "    :param english_vocab_size: Number of unique English words in the dataset\n",
    "    :param french_vocab_size: Number of unique French words in the dataset\n",
    "    :return: Keras model built, but not trained\n",
    "    \"\"\"\n",
    "    # TODO: Implement\n",
    "    model = Sequential()\n",
    "    model.add(Embedding(english_vocab_size, french_vocab_size, input_length=output_sequence_length, mask_zero=True))\n",
    "    model.add(GRU(output_sequence_length, return_sequences=True))\n",
    "    model.add(TimeDistributed(Dense(french_vocab_size)))\n",
    "    model.add(Activation('softmax'))\n",
    "    \n",
    "    model.compile(loss=sparse_categorical_crossentropy,\n",
    "                  optimizer=Adam(),\n",
    "                  metrics=['accuracy'])\n",
    "    return model\n",
    "\n",
    "tests.test_embed_model(embed_model)\n",
    "\n",
    "\n",
    "# TODO: Reshape the input\n",
    "tmp_x = pad(preproc_english_sentences, preproc_french_sentences.shape[1])\n",
    "tmp_x = tmp_x.reshape((-1, preproc_french_sentences.shape[-2]))\n",
    "\n",
    "# TODO: Train the neural network\n",
    "embed_rnn_model = embed_model(\n",
    "    tmp_x.shape,\n",
    "    preproc_french_sentences.shape[1],\n",
    "    len(english_tokenizer.word_index) + 1,\n",
    "    len(french_tokenizer.word_index) + 1)\n",
    "embed_rnn_model.fit(tmp_x, preproc_french_sentences, batch_size=100, epochs=15)\n",
    "\n",
    "# TODO: Print prediction(s)\n",
    "print(logits_to_text(embed_rnn_model.predict(tmp_x[:1])[0], french_tokenizer))"
   ]
  },
  {
   "cell_type": "code",
   "execution_count": null,
   "metadata": {
    "collapsed": true
   },
   "outputs": [],
   "source": []
  },
  {
   "cell_type": "markdown",
   "metadata": {},
   "source": [
    "### Model 3: Bidirectional RNNs (IMPLEMENTATION)\n",
    "![RNN](images/bidirectional.png)\n",
    "One restriction of a RNN is that it can't see the future input, only the past.  This is where bidirectional recurrent neural networks come in.  They are able to see the future data."
   ]
  },
  {
   "cell_type": "code",
   "execution_count": 11,
   "metadata": {},
   "outputs": [
    {
     "name": "stdout",
     "output_type": "stream",
     "text": [
      "Train on 110288 samples, validate on 27573 samples\n",
      "Epoch 1/10\n",
      "110288/110288 [==============================] - 52s - loss: 2.2671 - acc: 0.5302 - val_loss: 1.6374 - val_acc: 0.5940\n",
      "Epoch 2/10\n",
      "110288/110288 [==============================] - 50s - loss: 1.5178 - acc: 0.6081 - val_loss: 1.4418 - val_acc: 0.6170\n",
      "Epoch 3/10\n",
      "110288/110288 [==============================] - 50s - loss: 1.3962 - acc: 0.6297 - val_loss: 1.3573 - val_acc: 0.6365\n",
      "Epoch 4/10\n",
      "110288/110288 [==============================] - 50s - loss: 1.3255 - acc: 0.6413 - val_loss: 1.2938 - val_acc: 0.6439\n",
      "Epoch 5/10\n",
      "110288/110288 [==============================] - 50s - loss: 1.2686 - acc: 0.6477 - val_loss: 1.2467 - val_acc: 0.6517\n",
      "Epoch 6/10\n",
      "110288/110288 [==============================] - 50s - loss: 1.2289 - acc: 0.6541 - val_loss: 1.2123 - val_acc: 0.6568\n",
      "Epoch 7/10\n",
      "110288/110288 [==============================] - 50s - loss: 1.1967 - acc: 0.6578 - val_loss: 1.1788 - val_acc: 0.6607\n",
      "Epoch 8/10\n",
      "110288/110288 [==============================] - 50s - loss: 1.1656 - acc: 0.6618 - val_loss: 1.1535 - val_acc: 0.6632\n",
      "Epoch 9/10\n",
      "110288/110288 [==============================] - 50s - loss: 1.1425 - acc: 0.6655 - val_loss: 1.1336 - val_acc: 0.6669\n",
      "Epoch 10/10\n",
      "110288/110288 [==============================] - 50s - loss: 1.1250 - acc: 0.6692 - val_loss: 1.1173 - val_acc: 0.6716\n",
      "new jersey est parfois calme en l' et il est est en en <PAD> <PAD> <PAD> <PAD> <PAD> <PAD> <PAD> <PAD>\n"
     ]
    }
   ],
   "source": [
    "from keras.layers import Bidirectional\n",
    "\n",
    "\n",
    "def bd_model(input_shape, output_sequence_length, english_vocab_size, french_vocab_size):\n",
    "    \"\"\"\n",
    "    Build and train a bidirectional RNN model on x and y\n",
    "    :param input_shape: Tuple of input shape\n",
    "    :param output_sequence_length: Length of output sequence\n",
    "    :param english_vocab_size: Number of unique English words in the dataset\n",
    "    :param french_vocab_size: Number of unique French words in the dataset\n",
    "    :return: Keras model built, but not trained\n",
    "    \"\"\"\n",
    "    # TODO: Implement\n",
    "    model = Sequential()\n",
    "    model.add(Bidirectional(GRU(output_sequence_length, return_sequences=True), input_shape=input_shape[1:]))\n",
    "    model.add(TimeDistributed(Dense(french_vocab_size)))\n",
    "    model.add(Activation('softmax'))\n",
    "    \n",
    "    model.compile(loss=sparse_categorical_crossentropy,\n",
    "                  optimizer=Adam(),\n",
    "                  metrics=['accuracy'])\n",
    "    return model\n",
    "tests.test_bd_model(bd_model)\n",
    "\n",
    "\n",
    "# TODO: Train and Print prediction(s)\n",
    "tmp_x = pad(preproc_english_sentences, preproc_french_sentences.shape[1])\n",
    "tmp_x = tmp_x.reshape((-1, preproc_french_sentences.shape[-2], 1))\n",
    "\n",
    "bd_rnn_model = bd_model(\n",
    "    tmp_x.shape,\n",
    "    preproc_french_sentences.shape[1],\n",
    "    len(english_tokenizer.word_index) + 1,\n",
    "    len(french_tokenizer.word_index) + 1)\n",
    "bd_rnn_model.fit(tmp_x, preproc_french_sentences, batch_size=100, epochs=10, validation_split=0.2)\n",
    "\n",
    "print(logits_to_text(bd_rnn_model.predict(tmp_x[:1])[0], french_tokenizer))"
   ]
  },
  {
   "cell_type": "markdown",
   "metadata": {},
   "source": [
    "### Model 4: Encoder-Decoder (OPTIONAL)\n",
    "Time to look at encoder-decoder models.  This model is made up of an encoder and decoder. The encoder creates a matrix representation of the sentence.  The decoder takes this matrix as input and predicts the translation as output.\n",
    "\n",
    "Create an encoder-decoder model in the cell below."
   ]
  },
  {
   "cell_type": "code",
   "execution_count": 12,
   "metadata": {},
   "outputs": [
    {
     "name": "stdout",
     "output_type": "stream",
     "text": [
      "Epoch 1/10\n",
      "137861/137861 [==============================] - 66s - loss: 2.7774 - acc: 0.4574    \n",
      "Epoch 2/10\n",
      "137861/137861 [==============================] - 65s - loss: 2.2644 - acc: 0.5016    \n",
      "Epoch 3/10\n",
      "137861/137861 [==============================] - 65s - loss: 2.0936 - acc: 0.5219    \n",
      "Epoch 4/10\n",
      "137861/137861 [==============================] - 65s - loss: 1.9909 - acc: 0.5351    \n",
      "Epoch 5/10\n",
      "137861/137861 [==============================] - 65s - loss: 1.8897 - acc: 0.5441    \n",
      "Epoch 6/10\n",
      "137861/137861 [==============================] - 65s - loss: 1.7654 - acc: 0.5526    \n",
      "Epoch 7/10\n",
      "137861/137861 [==============================] - 65s - loss: 1.6715 - acc: 0.5624    \n",
      "Epoch 8/10\n",
      "137861/137861 [==============================] - 65s - loss: 1.6276 - acc: 0.5719    \n",
      "Epoch 9/10\n",
      "137861/137861 [==============================] - 65s - loss: 1.5849 - acc: 0.5769    \n",
      "Epoch 10/10\n",
      "137861/137861 [==============================] - 65s - loss: 1.5473 - acc: 0.5829    \n",
      "paris jersey est est en en mois mais il est est en en <PAD> <PAD> <PAD> <PAD> <PAD> <PAD> <PAD> <PAD>\n"
     ]
    }
   ],
   "source": [
    "from keras.layers import RepeatVector\n",
    "\n",
    "\n",
    "def encdec_model(input_shape, output_sequence_length, english_vocab_size, french_vocab_size):\n",
    "    \"\"\"\n",
    "    Build and train an encoder-decoder model on x and y\n",
    "    :param input_shape: Tuple of input shape\n",
    "    :param output_sequence_length: Length of output sequence\n",
    "    :param english_vocab_size: Number of unique English words in the dataset\n",
    "    :param french_vocab_size: Number of unique French words in the dataset\n",
    "    :return: Keras model built, but not trained\n",
    "    \"\"\"\n",
    "    # OPTIONAL: Implement\n",
    "    model = Sequential()\n",
    "    model.add(GRU(output_sequence_length, input_shape=input_shape[1:], return_sequences=False))\n",
    "    model.add(RepeatVector(output_sequence_length))\n",
    "    model.add(GRU(output_sequence_length, return_sequences=True))\n",
    "    model.add(TimeDistributed(Dense(french_vocab_size)))\n",
    "    model.add(Activation('softmax'))\n",
    "    \n",
    "    model.compile(loss=sparse_categorical_crossentropy,\n",
    "                  optimizer=Adam(),\n",
    "                  metrics=['accuracy'])\n",
    "    return model\n",
    "tests.test_encdec_model(encdec_model)\n",
    "\n",
    "tmp_x = pad(preproc_english_sentences, preproc_french_sentences.shape[1])\n",
    "tmp_x = tmp_x.reshape((-1, preproc_french_sentences.shape[-2], 1))\n",
    "\n",
    "encdec_rnn_model = encdec_model(\n",
    "    tmp_x.shape,\n",
    "    preproc_french_sentences.shape[1],\n",
    "    len(english_tokenizer.word_index) + 1,\n",
    "    len(french_tokenizer.word_index) + 1)\n",
    "encdec_rnn_model.fit(tmp_x, preproc_french_sentences, batch_size=100, epochs=10)\n",
    "\n",
    "# OPTIONAL: Train and Print prediction(s)\n",
    "print(logits_to_text(encdec_rnn_model.predict(tmp_x[:1])[0], french_tokenizer))"
   ]
  },
  {
   "cell_type": "markdown",
   "metadata": {},
   "source": [
    "### Model 5: Custom (IMPLEMENTATION)\n",
    "Use everything you learned from the previous models to create a model that incorporates embedding and a bidirectional rnn into one model."
   ]
  },
  {
   "cell_type": "code",
   "execution_count": 13,
   "metadata": {},
   "outputs": [
    {
     "name": "stdout",
     "output_type": "stream",
     "text": [
      "Final Model Loaded\n"
     ]
    }
   ],
   "source": [
    "from keras.layers import GRU, Input, Dense, TimeDistributed, RepeatVector, Bidirectional\n",
    "from keras.layers.embeddings import Embedding\n",
    "from keras.models import Model, Sequential\n",
    "from keras.layers import Activation\n",
    "from keras.optimizers import Adam\n",
    "from keras.losses import sparse_categorical_crossentropy\n",
    "\n",
    "def model_final(input_shape, output_sequence_length, english_vocab_size, french_vocab_size):\n",
    "    \"\"\"\n",
    "    Build and train a model that incorporates embedding, encoder-decoder, and bidirectional RNN on x and y\n",
    "    :param input_shape: Tuple of input shape\n",
    "    :param output_sequence_length: Length of output sequence\n",
    "    :param english_vocab_size: Number of unique English words in the dataset\n",
    "    :param french_vocab_size: Number of unique French words in the dataset\n",
    "    :return: Keras model built, but not trained\n",
    "    \"\"\"\n",
    "    # TODO: Implement\n",
    "    model = Sequential()\n",
    "    model.add(Embedding(english_vocab_size, french_vocab_size, input_length=input_shape[1]))\n",
    "    model.add(Bidirectional(GRU(128, return_sequences=False)))\n",
    "    model.add(RepeatVector(output_sequence_length))\n",
    "    model.add(Bidirectional(GRU(128, return_sequences=True)))  \n",
    "    model.add(GRU(256, return_sequences=True))\n",
    "    model.add(TimeDistributed(Dense(french_vocab_size)))\n",
    "    model.add(Activation('softmax'))\n",
    "    \n",
    "    model.compile(loss=sparse_categorical_crossentropy,\n",
    "                  optimizer=Adam(),\n",
    "                  metrics=['accuracy'])\n",
    "    return model\n",
    "\n",
    "tests.test_model_final(model_final)\n",
    "\n",
    "\n",
    "print('Final Model Loaded')"
   ]
  },
  {
   "cell_type": "markdown",
   "metadata": {},
   "source": [
    "## Prediction (IMPLEMENTATION)"
   ]
  },
  {
   "cell_type": "code",
   "execution_count": 15,
   "metadata": {},
   "outputs": [
    {
     "name": "stdout",
     "output_type": "stream",
     "text": [
      "Train on 110288 samples, validate on 27573 samples\n",
      "Epoch 1/15\n",
      "110288/110288 [==============================] - 134s - loss: 1.3505 - acc: 0.6495 - val_loss: 0.8716 - val_acc: 0.7406\n",
      "Epoch 2/15\n",
      "110288/110288 [==============================] - 132s - loss: 0.7138 - acc: 0.7815 - val_loss: 0.5770 - val_acc: 0.8212\n",
      "Epoch 3/15\n",
      "110288/110288 [==============================] - 132s - loss: 0.4677 - acc: 0.8580 - val_loss: 0.3720 - val_acc: 0.8912\n",
      "Epoch 4/15\n",
      "110288/110288 [==============================] - 132s - loss: 0.2867 - acc: 0.9172 - val_loss: 0.2161 - val_acc: 0.9403\n",
      "Epoch 5/15\n",
      "110288/110288 [==============================] - 132s - loss: 0.1816 - acc: 0.9488 - val_loss: 0.1531 - val_acc: 0.9555\n",
      "Epoch 6/15\n",
      "110288/110288 [==============================] - 131s - loss: 0.1341 - acc: 0.9609 - val_loss: 0.1313 - val_acc: 0.9607\n",
      "Epoch 7/15\n",
      "110288/110288 [==============================] - 131s - loss: 0.1114 - acc: 0.9668 - val_loss: 0.1277 - val_acc: 0.9616\n",
      "Epoch 8/15\n",
      "110288/110288 [==============================] - 131s - loss: 0.0996 - acc: 0.9700 - val_loss: 0.1088 - val_acc: 0.9688\n",
      "Epoch 9/15\n",
      "110288/110288 [==============================] - 132s - loss: 0.0890 - acc: 0.9731 - val_loss: 0.1074 - val_acc: 0.9690\n",
      "Epoch 10/15\n",
      "110288/110288 [==============================] - 131s - loss: 0.0735 - acc: 0.9776 - val_loss: 0.0858 - val_acc: 0.9744\n",
      "Epoch 11/15\n",
      "110288/110288 [==============================] - 131s - loss: 0.0785 - acc: 0.9764 - val_loss: 0.0823 - val_acc: 0.9758\n",
      "Epoch 12/15\n",
      "110288/110288 [==============================] - 131s - loss: 0.0632 - acc: 0.9807 - val_loss: 0.0816 - val_acc: 0.9773\n",
      "Epoch 13/15\n",
      "110288/110288 [==============================] - 132s - loss: 0.0677 - acc: 0.9797 - val_loss: 0.0760 - val_acc: 0.9784\n",
      "Epoch 14/15\n",
      "110288/110288 [==============================] - 131s - loss: 0.0583 - acc: 0.9824 - val_loss: 0.0700 - val_acc: 0.9799\n",
      "Epoch 15/15\n",
      "110288/110288 [==============================] - 131s - loss: 0.0510 - acc: 0.9845 - val_loss: 0.1010 - val_acc: 0.9731\n",
      "Sample 1:\n",
      "il a vu un vieux camion jaune <PAD> <PAD> <PAD> <PAD> <PAD> <PAD> <PAD> <PAD> <PAD> <PAD> <PAD> <PAD> <PAD> <PAD>\n",
      "Il a vu un vieux camion jaune\n",
      "Sample 2:\n",
      "new jersey est parfois calme pendant l' automne et il est neigeux en avril <PAD> <PAD> <PAD> <PAD> <PAD> <PAD> <PAD>\n",
      "<PAD> <PAD> <PAD> <PAD> <PAD> <PAD> <PAD> <PAD> <PAD> <PAD> <PAD> <PAD> <PAD> <PAD> <PAD> <PAD> <PAD> <PAD> <PAD> <PAD> <PAD>\n"
     ]
    }
   ],
   "source": [
    "import numpy as np\n",
    "from keras.preprocessing.sequence import pad_sequences\n",
    "\n",
    "\n",
    "def final_predictions(x, y, x_tk, y_tk):\n",
    "    \"\"\"\n",
    "    Gets predictions using the final model\n",
    "    :param x: Preprocessed English data\n",
    "    :param y: Preprocessed French data\n",
    "    :param x_tk: English tokenizer\n",
    "    :param y_tk: French tokenizer\n",
    "    \"\"\"\n",
    "    # TODO: Train neural network using model_final\n",
    "    model = model_final(x.shape, y.shape[1], len(x_tk.word_index)+1, len(y_tk.word_index)+1)\n",
    "    model.fit(x, y, batch_size=100, epochs=15, validation_split=0.2)\n",
    "\n",
    "    \n",
    "    ## DON'T EDIT ANYTHING BELOW THIS LINE\n",
    "    y_id_to_word = {value: key for key, value in y_tk.word_index.items()}\n",
    "    y_id_to_word[0] = '<PAD>'\n",
    "\n",
    "    sentence = 'he saw a old yellow truck'\n",
    "    sentence = [x_tk.word_index[word] for word in sentence.split()]\n",
    "    sentence = pad_sequences([sentence], maxlen=x.shape[-1], padding='post')\n",
    "    sentences = np.array([sentence[0], x[0]])\n",
    "    predictions = model.predict(sentences, len(sentences))\n",
    "\n",
    "    print('Sample 1:')\n",
    "    print(' '.join([y_id_to_word[np.argmax(x)] for x in predictions[0]]))\n",
    "    print('Il a vu un vieux camion jaune')\n",
    "    print('Sample 2:')\n",
    "    print(' '.join([y_id_to_word[np.argmax(x)] for x in predictions[1]]))\n",
    "    print(' '.join([y_id_to_word[np.argmax(x)] for x in y[0]]))\n",
    "\n",
    "\n",
    "final_predictions(preproc_english_sentences, preproc_french_sentences, english_tokenizer, french_tokenizer)"
   ]
  },
  {
   "cell_type": "markdown",
   "metadata": {},
   "source": [
    "## Submission\n",
    "When you are ready to submit your project, do the following steps:\n",
    "1. Ensure you pass all points on the [rubric](https://review.udacity.com/#!/rubrics/1004/view).\n",
    "2. Submit the following in a zip file.\n",
    "  - `helper.py`\n",
    "  - `machine_translation.ipynb`\n",
    "  - `machine_translation.html`\n",
    "    - You can export the notebook by navigating to **File -> Download as -> HTML (.html)**."
   ]
  }
 ],
 "metadata": {
  "kernelspec": {
   "display_name": "Python 3",
   "language": "python",
   "name": "python3"
  },
  "language_info": {
   "codemirror_mode": {
    "name": "ipython",
    "version": 3
   },
   "file_extension": ".py",
   "mimetype": "text/x-python",
   "name": "python",
   "nbconvert_exporter": "python",
   "pygments_lexer": "ipython3",
   "version": "3.6.1"
  }
 },
 "nbformat": 4,
 "nbformat_minor": 1
}
